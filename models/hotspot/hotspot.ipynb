{
 "cells": [
  {
   "cell_type": "markdown",
   "metadata": {},
   "source": [
    "Import Packages"
   ]
  },
  {
   "cell_type": "code",
   "execution_count": 44,
   "metadata": {},
   "outputs": [],
   "source": [
    "import pandas as pd\n",
    "from sklearn.model_selection import train_test_split\n",
    "from sklearn.preprocessing import StandardScaler\n",
    "from sklearn.ensemble import RandomForestClassifier\n",
    "from sklearn.metrics import classification_report, confusion_matrix"
   ]
  },
  {
   "cell_type": "markdown",
   "metadata": {},
   "source": [
    "Data Preparation"
   ]
  },
  {
   "cell_type": "code",
   "execution_count": 45,
   "metadata": {},
   "outputs": [
    {
     "name": "stdout",
     "output_type": "stream",
     "text": [
      "<bound method DataFrame.value_counts of                X          Y  OBJECTID  WGS84_LAT_COORD  WGS84_LON_COORD  \\\n",
      "0     -63.682392  44.601085         1        44.601076       -63.682394   \n",
      "1     -63.777518  44.768255         2        44.768246       -63.777520   \n",
      "2     -63.765056  44.667540         3        44.667531       -63.765058   \n",
      "3     -63.843731  44.709729         4        44.709720       -63.843733   \n",
      "4     -63.598575  44.687277         5        44.687268       -63.598577   \n",
      "...          ...        ...       ...              ...              ...   \n",
      "31953 -63.856055  44.703075     31954        44.703066       -63.856057   \n",
      "31954 -63.623132  44.656582     31955        44.656573       -63.623134   \n",
      "31955 -63.468309  44.745645     31956        44.745635       -63.468311   \n",
      "31956 -63.528903  44.670606     31957        44.670597       -63.528905   \n",
      "31957 -63.571562  44.636434     31958        44.636425       -63.571564   \n",
      "\n",
      "                                ROAD_LOCATION_1  \\\n",
      "0                               905 PROSPECT RD   \n",
      "1                          1231 WHITE HILLS RUN   \n",
      "2                      2923 ST MARGARETS BAY RD   \n",
      "3                            HAMMONDS PLAINS RD   \n",
      "4      HIGHWAY 111 EB EXIT 2 VICTORIA RD RAMP S   \n",
      "...                                         ...   \n",
      "31953                            1 ELEANOR LANE   \n",
      "31954                       3426 ST ANDREWS AVE   \n",
      "31955                            50 SIMMONDS RD   \n",
      "31956                           620 PORTLAND ST   \n",
      "31957                          5415 VICTORIA RD   \n",
      "\n",
      "                          ROAD_CONFIGURATION  \\\n",
      "0                           Non-intersection   \n",
      "1                           Non-intersection   \n",
      "2                           Non-intersection   \n",
      "3                           Non-intersection   \n",
      "4                           Non-intersection   \n",
      "...                                      ...   \n",
      "31953                                    NaN   \n",
      "31954                       Non-intersection   \n",
      "31955                       Non-intersection   \n",
      "31956  Intersection - private road or access   \n",
      "31957                       Non-intersection   \n",
      "\n",
      "                                 COLLISION_CONFIGURATION YOUNG_DEMOGRAPHIC  \\\n",
      "0                 Single vehicle - off road to the right                 N   \n",
      "1                 Single vehicle - off road to the right                 Y   \n",
      "2                  Single vehicle - off road to the left                 Y   \n",
      "3                             Multiple vehicle - head on                 N   \n",
      "4                 Single vehicle - off road to the right                 N   \n",
      "...                                                  ...               ...   \n",
      "31953                                                NaN                 N   \n",
      "31954                                                NaN                 N   \n",
      "31955              Single vehicle - off road to the left                 N   \n",
      "31956  Multiple vehicle - one crossing path of other ...                 N   \n",
      "31957              Multiple vehicle - hit parked vehicle                 N   \n",
      "\n",
      "      PEDESTRIAN_COLLISIONS  ...  \\\n",
      "0                         N  ...   \n",
      "1                         N  ...   \n",
      "2                         N  ...   \n",
      "3                         N  ...   \n",
      "4                         N  ...   \n",
      "...                     ...  ...   \n",
      "31953                     N  ...   \n",
      "31954                     N  ...   \n",
      "31955                     N  ...   \n",
      "31956                     N  ...   \n",
      "31957                     N  ...   \n",
      "\n",
      "      ROAD_CONDITION_Uneven surface or sharp drop off pavement  \\\n",
      "0                                                  False         \n",
      "1                                                  False         \n",
      "2                                                  False         \n",
      "3                                                  False         \n",
      "4                                                  False         \n",
      "...                                                  ...         \n",
      "31953                                              False         \n",
      "31954                                              False         \n",
      "31955                                              False         \n",
      "31956                                              False         \n",
      "31957                                              False         \n",
      "\n",
      "      ROAD_CONDITION_Wheel rutting ROAD_CONDITION_Worn  \\\n",
      "0                            False               False   \n",
      "1                            False               False   \n",
      "2                            False               False   \n",
      "3                            False               False   \n",
      "4                            False               False   \n",
      "...                            ...                 ...   \n",
      "31953                        False               False   \n",
      "31954                        False               False   \n",
      "31955                        False               False   \n",
      "31956                        False               False   \n",
      "31957                        False               False   \n",
      "\n",
      "      ARTIFICIAL_LIGHT_CONDITION_Street lights off  \\\n",
      "0                                            False   \n",
      "1                                            False   \n",
      "2                                            False   \n",
      "3                                            False   \n",
      "4                                            False   \n",
      "...                                            ...   \n",
      "31953                                        False   \n",
      "31954                                        False   \n",
      "31955                                        False   \n",
      "31956                                         True   \n",
      "31957                                         True   \n",
      "\n",
      "      ARTIFICIAL_LIGHT_CONDITION_Street lights on    Year Month   Day Hour  \\\n",
      "0                                            True  2023.0  12.0  31.0  2.0   \n",
      "1                                            True  2023.0  12.0  31.0  2.0   \n",
      "2                                            True  2023.0  12.0  31.0  2.0   \n",
      "3                                            True  2023.0  12.0  31.0  2.0   \n",
      "4                                            True  2023.0  12.0  31.0  1.0   \n",
      "...                                           ...     ...   ...   ...  ...   \n",
      "31953                                       False     NaN   NaN   NaN  NaN   \n",
      "31954                                       False     NaN   NaN   NaN  NaN   \n",
      "31955                                        True     NaN   NaN   NaN  NaN   \n",
      "31956                                       False     NaN   NaN   NaN  NaN   \n",
      "31957                                       False     NaN   NaN   NaN  NaN   \n",
      "\n",
      "      Weekday  \n",
      "0         6.0  \n",
      "1         6.0  \n",
      "2         6.0  \n",
      "3         6.0  \n",
      "4         6.0  \n",
      "...       ...  \n",
      "31953     NaN  \n",
      "31954     NaN  \n",
      "31955     NaN  \n",
      "31956     NaN  \n",
      "31957     NaN  \n",
      "\n",
      "[31958 rows x 46 columns]>\n",
      "Index(['X', 'Y', 'OBJECTID', 'WGS84_LAT_COORD', 'WGS84_LON_COORD',\n",
      "       'ROAD_LOCATION_1', 'ROAD_CONFIGURATION', 'COLLISION_CONFIGURATION',\n",
      "       'YOUNG_DEMOGRAPHIC', 'PEDESTRIAN_COLLISIONS', 'AGRESSIVE_DRIVING',\n",
      "       'DISTRACTED_DRIVING', 'IMPAIRED_DRIVING', 'BICYCLE_COLLISIONS',\n",
      "       'INTERSECTION_RELATED', 'ROAD_SURFACE', 'UNUSUAL_ENVIRO_1',\n",
      "       'ROAD_ALIGNMENT', 'ROAD_GRADE', 'SCHOOL_PURPOSE_RELATED',\n",
      "       'WEATHER_CONDITION_Clear', 'WEATHER_CONDITION_Dust or smoke',\n",
      "       'WEATHER_CONDITION_Fog, mist or smog',\n",
      "       'WEATHER_CONDITION_Freezing rain',\n",
      "       'WEATHER_CONDITION_Overcast or cloudy', 'WEATHER_CONDITION_Rain',\n",
      "       'WEATHER_CONDITION_Snow', 'WEATHER_CONDITION_Strong wind',\n",
      "       'LIGHT_CONDITION_Darkness', 'LIGHT_CONDITION_Dawn',\n",
      "       'LIGHT_CONDITION_Daylight', 'LIGHT_CONDITION_Dusk',\n",
      "       'ROAD_CONDITION_Faded pavement markings', 'ROAD_CONDITION_Normal',\n",
      "       'ROAD_CONDITION_Potholes or bumps',\n",
      "       'ROAD_CONDITION_Under repair or construction',\n",
      "       'ROAD_CONDITION_Uneven surface or sharp drop off pavement',\n",
      "       'ROAD_CONDITION_Wheel rutting', 'ROAD_CONDITION_Worn',\n",
      "       'ARTIFICIAL_LIGHT_CONDITION_Street lights off',\n",
      "       'ARTIFICIAL_LIGHT_CONDITION_Street lights on', 'Year', 'Month', 'Day',\n",
      "       'Hour', 'Weekday'],\n",
      "      dtype='object')\n"
     ]
    }
   ],
   "source": [
    "%run /Users/jbslaunwhite01/projects/hfx_traffic_analysis_app/data/transform/transform_data.py\n",
    "\n",
    "file_path = '/Users/jbslaunwhite01/projects/hfx_traffic_analysis_app/data/raw/Traffic_Collisions.csv'\n",
    "data = transform_data(file_path)\n",
    "print(data.columns)\n",
    "# Assuming 'data' is your DataFrame loaded from 'Traffic_Collisions.csv'\n",
    "# Let's focus on geographical coordinates as primary features for hotspot prediction\n",
    "features = data[['WGS84_LAT_COORD', 'WGS84_LON_COORD']]\n",
    "\n",
    "# For the target, we create a 'Hotspot' label based on collision frequency in the area\n",
    "# This is a simplified approach, and more sophisticated methods could be applied\n",
    "# Calculate collision counts by coordinates rounding to approximate for general areas\n",
    "data['Hotspot'] = data.groupby(['WGS84_LAT_COORD', 'WGS84_LON_COORD'])['OBJECTID'].transform('count')\n",
    "# Label areas with collisions above a certain percentile as hotspots\n",
    "hotspot_threshold = data['Hotspot'].quantile(0.75) # Adjust the percentile based on the desired threshold\n",
    "data['Is_Hotspot'] = (data['Hotspot'] >= hotspot_threshold).astype(int)\n",
    "\n",
    "# Prepare the features and target variable\n",
    "X = features\n",
    "y = data['Is_Hotspot']\n",
    "\n",
    "# Split the data into training and test sets\n",
    "X_train, X_test, y_train, y_test = train_test_split(X, y, test_size=0.2, random_state=42)\n",
    "\n",
    "# Optional: Scale the features (useful if extending the feature set beyond coordinates)\n",
    "scaler = StandardScaler()\n",
    "X_train_scaled = scaler.fit_transform(X_train)\n",
    "X_test_scaled = scaler.transform(X_test)\n"
   ]
  },
  {
   "cell_type": "markdown",
   "metadata": {},
   "source": [
    "Model Training"
   ]
  },
  {
   "cell_type": "code",
   "execution_count": 46,
   "metadata": {},
   "outputs": [
    {
     "data": {
      "text/html": [
       "<style>#sk-container-id-2 {color: black;}#sk-container-id-2 pre{padding: 0;}#sk-container-id-2 div.sk-toggleable {background-color: white;}#sk-container-id-2 label.sk-toggleable__label {cursor: pointer;display: block;width: 100%;margin-bottom: 0;padding: 0.3em;box-sizing: border-box;text-align: center;}#sk-container-id-2 label.sk-toggleable__label-arrow:before {content: \"▸\";float: left;margin-right: 0.25em;color: #696969;}#sk-container-id-2 label.sk-toggleable__label-arrow:hover:before {color: black;}#sk-container-id-2 div.sk-estimator:hover label.sk-toggleable__label-arrow:before {color: black;}#sk-container-id-2 div.sk-toggleable__content {max-height: 0;max-width: 0;overflow: hidden;text-align: left;background-color: #f0f8ff;}#sk-container-id-2 div.sk-toggleable__content pre {margin: 0.2em;color: black;border-radius: 0.25em;background-color: #f0f8ff;}#sk-container-id-2 input.sk-toggleable__control:checked~div.sk-toggleable__content {max-height: 200px;max-width: 100%;overflow: auto;}#sk-container-id-2 input.sk-toggleable__control:checked~label.sk-toggleable__label-arrow:before {content: \"▾\";}#sk-container-id-2 div.sk-estimator input.sk-toggleable__control:checked~label.sk-toggleable__label {background-color: #d4ebff;}#sk-container-id-2 div.sk-label input.sk-toggleable__control:checked~label.sk-toggleable__label {background-color: #d4ebff;}#sk-container-id-2 input.sk-hidden--visually {border: 0;clip: rect(1px 1px 1px 1px);clip: rect(1px, 1px, 1px, 1px);height: 1px;margin: -1px;overflow: hidden;padding: 0;position: absolute;width: 1px;}#sk-container-id-2 div.sk-estimator {font-family: monospace;background-color: #f0f8ff;border: 1px dotted black;border-radius: 0.25em;box-sizing: border-box;margin-bottom: 0.5em;}#sk-container-id-2 div.sk-estimator:hover {background-color: #d4ebff;}#sk-container-id-2 div.sk-parallel-item::after {content: \"\";width: 100%;border-bottom: 1px solid gray;flex-grow: 1;}#sk-container-id-2 div.sk-label:hover label.sk-toggleable__label {background-color: #d4ebff;}#sk-container-id-2 div.sk-serial::before {content: \"\";position: absolute;border-left: 1px solid gray;box-sizing: border-box;top: 0;bottom: 0;left: 50%;z-index: 0;}#sk-container-id-2 div.sk-serial {display: flex;flex-direction: column;align-items: center;background-color: white;padding-right: 0.2em;padding-left: 0.2em;position: relative;}#sk-container-id-2 div.sk-item {position: relative;z-index: 1;}#sk-container-id-2 div.sk-parallel {display: flex;align-items: stretch;justify-content: center;background-color: white;position: relative;}#sk-container-id-2 div.sk-item::before, #sk-container-id-2 div.sk-parallel-item::before {content: \"\";position: absolute;border-left: 1px solid gray;box-sizing: border-box;top: 0;bottom: 0;left: 50%;z-index: -1;}#sk-container-id-2 div.sk-parallel-item {display: flex;flex-direction: column;z-index: 1;position: relative;background-color: white;}#sk-container-id-2 div.sk-parallel-item:first-child::after {align-self: flex-end;width: 50%;}#sk-container-id-2 div.sk-parallel-item:last-child::after {align-self: flex-start;width: 50%;}#sk-container-id-2 div.sk-parallel-item:only-child::after {width: 0;}#sk-container-id-2 div.sk-dashed-wrapped {border: 1px dashed gray;margin: 0 0.4em 0.5em 0.4em;box-sizing: border-box;padding-bottom: 0.4em;background-color: white;}#sk-container-id-2 div.sk-label label {font-family: monospace;font-weight: bold;display: inline-block;line-height: 1.2em;}#sk-container-id-2 div.sk-label-container {text-align: center;}#sk-container-id-2 div.sk-container {/* jupyter's `normalize.less` sets `[hidden] { display: none; }` but bootstrap.min.css set `[hidden] { display: none !important; }` so we also need the `!important` here to be able to override the default hidden behavior on the sphinx rendered scikit-learn.org. See: https://github.com/scikit-learn/scikit-learn/issues/21755 */display: inline-block !important;position: relative;}#sk-container-id-2 div.sk-text-repr-fallback {display: none;}</style><div id=\"sk-container-id-2\" class=\"sk-top-container\"><div class=\"sk-text-repr-fallback\"><pre>RandomForestClassifier(random_state=42)</pre><b>In a Jupyter environment, please rerun this cell to show the HTML representation or trust the notebook. <br />On GitHub, the HTML representation is unable to render, please try loading this page with nbviewer.org.</b></div><div class=\"sk-container\" hidden><div class=\"sk-item\"><div class=\"sk-estimator sk-toggleable\"><input class=\"sk-toggleable__control sk-hidden--visually\" id=\"sk-estimator-id-2\" type=\"checkbox\" checked><label for=\"sk-estimator-id-2\" class=\"sk-toggleable__label sk-toggleable__label-arrow\">RandomForestClassifier</label><div class=\"sk-toggleable__content\"><pre>RandomForestClassifier(random_state=42)</pre></div></div></div></div></div>"
      ],
      "text/plain": [
       "RandomForestClassifier(random_state=42)"
      ]
     },
     "execution_count": 46,
     "metadata": {},
     "output_type": "execute_result"
    }
   ],
   "source": [
    "# Initialize and train the RandomForestClassifier\n",
    "clf = RandomForestClassifier(n_estimators=100, random_state=42)\n",
    "clf.fit(X_train_scaled, y_train)\n"
   ]
  },
  {
   "cell_type": "markdown",
   "metadata": {},
   "source": [
    "Model Evaluation"
   ]
  },
  {
   "cell_type": "code",
   "execution_count": 47,
   "metadata": {},
   "outputs": [
    {
     "name": "stdout",
     "output_type": "stream",
     "text": [
      "[[4589   46]\n",
      " [   0 1757]]\n",
      "              precision    recall  f1-score   support\n",
      "\n",
      "           0       1.00      0.99      1.00      4635\n",
      "           1       0.97      1.00      0.99      1757\n",
      "\n",
      "    accuracy                           0.99      6392\n",
      "   macro avg       0.99      1.00      0.99      6392\n",
      "weighted avg       0.99      0.99      0.99      6392\n",
      "\n"
     ]
    }
   ],
   "source": [
    "# Predict on the test set\n",
    "y_pred = clf.predict(X_test_scaled)\n",
    "\n",
    "# Evaluate the model\n",
    "print(confusion_matrix(y_test, y_pred))\n",
    "print(classification_report(y_test, y_pred))\n"
   ]
  },
  {
   "cell_type": "markdown",
   "metadata": {},
   "source": [
    "**Interpretation & Use**\n",
    "A model trained to predict collision hotspots can guide traffic safety improvements. High-risk areas identified by the model could be prioritized for interventions such as enhanced signage, road redesign, or increased enforcement of traffic laws."
   ]
  }
 ],
 "metadata": {
  "kernelspec": {
   "display_name": "Python 3",
   "language": "python",
   "name": "python3"
  },
  "language_info": {
   "codemirror_mode": {
    "name": "ipython",
    "version": 3
   },
   "file_extension": ".py",
   "mimetype": "text/x-python",
   "name": "python",
   "nbconvert_exporter": "python",
   "pygments_lexer": "ipython3",
   "version": "3.10.5"
  }
 },
 "nbformat": 4,
 "nbformat_minor": 2
}
